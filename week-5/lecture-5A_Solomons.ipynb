{
 "cells": [
  {
   "cell_type": "markdown",
   "metadata": {
    "slideshow": {
     "slide_type": "slide"
    }
   },
   "source": [
    "# Week 5A: More Geospatial Analysis: Urban Networks\n",
    "\n",
    "- Monday, October 2, 2023\n",
    "- Section 401"
   ]
  },
  {
   "cell_type": "code",
   "execution_count": null,
   "metadata": {
    "slideshow": {
     "slide_type": "skip"
    },
    "tags": []
   },
   "outputs": [],
   "source": [
    "# The usual imports\n",
    "import altair as alt\n",
    "import geopandas as gpd\n",
    "import numpy as np\n",
    "import pandas as pd\n",
    "from matplotlib import pyplot as plt"
   ]
  },
  {
   "cell_type": "code",
   "execution_count": null,
   "metadata": {
    "slideshow": {
     "slide_type": "skip"
    },
    "tags": []
   },
   "outputs": [],
   "source": [
    "# Show all columns in dataframes\n",
    "pd.options.display.max_columns = 999"
   ]
  },
  {
   "cell_type": "code",
   "execution_count": null,
   "metadata": {
    "tags": []
   },
   "outputs": [],
   "source": [
    "# Hide warnings due to issue in shapely package \n",
    "# See: https://github.com/shapely/shapely/issues/1345\n",
    "np.seterr(invalid=\"ignore\");"
   ]
  },
  {
   "cell_type": "markdown",
   "metadata": {
    "slideshow": {
     "slide_type": "slide"
    }
   },
   "source": [
    "## Today: Urban street networks and OpenStreetMap (OSM)\n",
    "\n",
    "- Two tools that make working with OSM data very easy\n",
    "- What kind of questions can we answer?\n",
    "    - Street orientations \n",
    "    - Mapping event points to streets: car crashes\n",
    "    - Mapping amenities\n",
    "    - Network-constrained distances: accessibility"
   ]
  },
  {
   "cell_type": "markdown",
   "metadata": {
    "slideshow": {
     "slide_type": "slide"
    }
   },
   "source": [
    "## OSM: what is it?\n",
    "\n",
    "- Collaborative mapping\n",
    "- A free editable map of the World\n",
    "- Sort of like Wikipedia for maps\n",
    "\n",
    "**Great source of data: street networks and a wealth of amenity information**"
   ]
  },
  {
   "cell_type": "markdown",
   "metadata": {
    "slideshow": {
     "slide_type": "subslide"
    }
   },
   "source": [
    "https://www.openstreetmap.org"
   ]
  },
  {
   "cell_type": "markdown",
   "metadata": {
    "slideshow": {
     "slide_type": "slide"
    }
   },
   "source": [
    "## Working with OSM data\n",
    "\n",
    "- Raw data is very messy\n",
    "- Two relatively new, amazing Python packages greatly simply the process\n",
    "- Related, but complementary features    \n",
    "    - **OSMnx:** downloading and manipulating streets as networks\n",
    "    - **Pandana:** networks focused on accessibility of amenities\n",
    "    \n",
    "**Related:** interactive web maps in Python"
   ]
  },
  {
   "cell_type": "markdown",
   "metadata": {
    "slideshow": {
     "slide_type": "slide"
    }
   },
   "source": [
    "## Part 1: OSMnx\n",
    "\n",
    "Relatively new package (just a few years old), but quickly becoming the go to package for working with street networks and OpenStreetMap data in Python.\n",
    "\n",
    "Several key features: \n",
    "\n",
    "- Downloading political boundaries for cities, states, countries, etc\n",
    "- Downloading street networks\n",
    "- Analyzing networks: routing, visualization, statistics"
   ]
  },
  {
   "cell_type": "markdown",
   "metadata": {
    "slideshow": {
     "slide_type": "subslide"
    }
   },
   "source": [
    "  - [GitHub](https://github.com/gboeing/osmnx)\n",
    "  - [Introductory Blog Post](https://geoffboeing.com/2016/11/osmnx-python-street-networks/)\n",
    "  - [Jupyter Notebook Examples](https://github.com/gboeing/osmnx-examples/tree/master/notebooks) ([Binder](https://mybinder.org/v2/gh/gboeing/osmnx-examples/main?urlpath=/tree/notebooks))\n",
    "  - [Documentation](https://osmnx.readthedocs.io)"
   ]
  },
  {
   "cell_type": "code",
   "execution_count": 16,
   "metadata": {
    "slideshow": {
     "slide_type": "slide"
    },
    "tags": []
   },
   "outputs": [],
   "source": [
    "import osmnx as ox"
   ]
  },
  {
   "cell_type": "markdown",
   "metadata": {
    "slideshow": {
     "slide_type": "slide"
    }
   },
   "source": [
    "### 1.1. Getting boundary shapefiles from OSM\n",
    "\n",
    "Key function: `geocode_to_gdf()` ([docs](https://osmnx.readthedocs.io/en/stable/osmnx.html#osmnx.geocoder.geocode_to_gdf))\n",
    "\n",
    "We can get the boundary for anything identified as a \"place\" by OSM.\n",
    "\n",
    "**Important: Be careful to pass the right place name that OSM needs**"
   ]
  },
  {
   "cell_type": "code",
   "execution_count": 31,
   "metadata": {
    "slideshow": {
     "slide_type": "subslide"
    },
    "tags": []
   },
   "outputs": [
    {
     "data": {
      "text/html": [
       "<div>\n",
       "<style scoped>\n",
       "    .dataframe tbody tr th:only-of-type {\n",
       "        vertical-align: middle;\n",
       "    }\n",
       "\n",
       "    .dataframe tbody tr th {\n",
       "        vertical-align: top;\n",
       "    }\n",
       "\n",
       "    .dataframe thead th {\n",
       "        text-align: right;\n",
       "    }\n",
       "</style>\n",
       "<table border=\"1\" class=\"dataframe\">\n",
       "  <thead>\n",
       "    <tr style=\"text-align: right;\">\n",
       "      <th></th>\n",
       "      <th>geometry</th>\n",
       "      <th>bbox_north</th>\n",
       "      <th>bbox_south</th>\n",
       "      <th>bbox_east</th>\n",
       "      <th>bbox_west</th>\n",
       "      <th>place_id</th>\n",
       "      <th>osm_type</th>\n",
       "      <th>osm_id</th>\n",
       "      <th>lat</th>\n",
       "      <th>lon</th>\n",
       "      <th>class</th>\n",
       "      <th>type</th>\n",
       "      <th>place_rank</th>\n",
       "      <th>importance</th>\n",
       "      <th>addresstype</th>\n",
       "      <th>name</th>\n",
       "      <th>display_name</th>\n",
       "    </tr>\n",
       "  </thead>\n",
       "  <tbody>\n",
       "    <tr>\n",
       "      <th>0</th>\n",
       "      <td>POLYGON ((159.91731 -9.41273, 159.91800 -9.423...</td>\n",
       "      <td>-9.412725</td>\n",
       "      <td>-9.45849</td>\n",
       "      <td>160.022725</td>\n",
       "      <td>159.917309</td>\n",
       "      <td>55683639</td>\n",
       "      <td>relation</td>\n",
       "      <td>2536278</td>\n",
       "      <td>-9.437798</td>\n",
       "      <td>159.962417</td>\n",
       "      <td>boundary</td>\n",
       "      <td>administrative</td>\n",
       "      <td>8</td>\n",
       "      <td>0.55001</td>\n",
       "      <td>state</td>\n",
       "      <td>Honiara</td>\n",
       "      <td>Honiara, Solomon Islands</td>\n",
       "    </tr>\n",
       "  </tbody>\n",
       "</table>\n",
       "</div>"
      ],
      "text/plain": [
       "                                            geometry  bbox_north  bbox_south  \\\n",
       "0  POLYGON ((159.91731 -9.41273, 159.91800 -9.423...   -9.412725    -9.45849   \n",
       "\n",
       "    bbox_east   bbox_west  place_id  osm_type   osm_id       lat         lon  \\\n",
       "0  160.022725  159.917309  55683639  relation  2536278 -9.437798  159.962417   \n",
       "\n",
       "      class            type  place_rank  importance addresstype     name  \\\n",
       "0  boundary  administrative           8     0.55001       state  Honiara   \n",
       "\n",
       "               display_name  \n",
       "0  Honiara, Solomon Islands  "
      ]
     },
     "execution_count": 31,
     "metadata": {},
     "output_type": "execute_result"
    }
   ],
   "source": [
    "Honiara = ox.geocode_to_gdf(\"Honiara, Solomon Islands\")\n",
    "Honiara.head()"
   ]
  },
  {
   "cell_type": "code",
   "execution_count": 32,
   "metadata": {
    "tags": []
   },
   "outputs": [
    {
     "data": {
      "text/plain": [
       "<Geographic 2D CRS: EPSG:4326>\n",
       "Name: WGS 84\n",
       "Axis Info [ellipsoidal]:\n",
       "- Lat[north]: Geodetic latitude (degree)\n",
       "- Lon[east]: Geodetic longitude (degree)\n",
       "Area of Use:\n",
       "- name: World.\n",
       "- bounds: (-180.0, -90.0, 180.0, 90.0)\n",
       "Datum: World Geodetic System 1984 ensemble\n",
       "- Ellipsoid: WGS 84\n",
       "- Prime Meridian: Greenwich"
      ]
     },
     "execution_count": 32,
     "metadata": {},
     "output_type": "execute_result"
    }
   ],
   "source": [
    "Honiara.crs"
   ]
  },
  {
   "cell_type": "markdown",
   "metadata": {
    "slideshow": {
     "slide_type": "slide"
    }
   },
   "source": [
    "We can plot it just like any other GeoDataFrame"
   ]
  },
  {
   "cell_type": "code",
   "execution_count": 33,
   "metadata": {
    "slideshow": {
     "slide_type": "subslide"
    },
    "tags": []
   },
   "outputs": [
    {
     "data": {
      "image/png": "[encoded data removed]",
      "text/plain": [
       "<Figure size 640x480 with 1 Axes>"
      ]
     },
     "metadata": {},
     "output_type": "display_data"
    }
   ],
   "source": [
    "# Project it to Web Mercator first and plot\n",
    "ax = Honiara.to_crs(epsg=3857).plot(facecolor=\"none\", edgecolor=\"black\")\n",
    "ax.set_axis_off()"
   ]
  },
  {
   "cell_type": "markdown",
   "metadata": {
    "slideshow": {
     "slide_type": "slide"
    }
   },
   "source": [
    "### 1.2 Projecting with OSMnx\n",
    "\n",
    "Key function: `project_gdf()` ([docs](https://osmnx.readthedocs.io/en/stable/osmnx.html#osmnx.projection.project_gdf))\n",
    "\n",
    "Automatically projects to the [Universal Transverse Mercator](https://en.wikipedia.org/wiki/Universal_Transverse_Mercator_coordinate_system) (UTM) CRS for the UTM zone that the centroid of the polygon lies in \n",
    "\n",
    "A good, general projection that works for most latitudes except very northern locations."
   ]
  },
  {
   "cell_type": "code",
   "execution_count": 34,
   "metadata": {
    "slideshow": {
     "slide_type": "slide"
    },
    "tags": []
   },
   "outputs": [
    {
     "data": {
      "image/png": "[encoded data removed]",
      "text/plain": [
       "<Figure size 640x480 with 1 Axes>"
      ]
     },
     "metadata": {},
     "output_type": "display_data"
    }
   ],
   "source": [
    "ax = ox.project_gdf(Honiara).plot(fc=\"lightblue\", ec=\"gray\")\n",
    "ax.set_axis_off()"
   ]
  },
  {
   "cell_type": "markdown",
   "metadata": {
    "slideshow": {
     "slide_type": "slide"
    }
   },
   "source": [
    "Some more examples:"
   ]
  },
  {
   "cell_type": "markdown",
   "metadata": {
    "slideshow": {
     "slide_type": "slide"
    }
   },
   "source": [
    "### 1.3 Downloading OSM features\n",
    "\n",
    "Key functions: `features_from_*`\n",
    "\n",
    "- `features_from_place()` ([docs](https://osmnx.readthedocs.io/en/stable/osmnx.html#osmnx.features.features_from_place))\n",
    "     - Download features within an OSM place boundary\n",
    "- `features_from_address()` ([docs](https://osmnx.readthedocs.io/en/stable/osmnx.html#osmnx.features.features_from_address))\n",
    "    - Download features within a certain distance of an address\n",
    "- `features_from_bbox()` ([docs](https://osmnx.readthedocs.io/en/stable/osmnx.html#osmnx.features.features_from_bbox))\n",
    "    - Download features within a N, S, E, W bounding box\n",
    "- `features_from_point()` ([docs](https://osmnx.readthedocs.io/en/stable/osmnx.html#osmnx.features.features_from_point)) \n",
    "    - Download features within a certain distance of a specified point\n",
    "- `features_from_polygon()` ([docs](https://osmnx.readthedocs.io/en/stable/osmnx.html#osmnx.features.features_from_polygon))\n",
    "    - Download features within a polygon object"
   ]
  },
  {
   "cell_type": "markdown",
   "metadata": {
    "slideshow": {
     "slide_type": "slide"
    }
   },
   "source": [
    "::: {.callout-note}\n",
    "### About OSM features\n",
    "\n",
    "**Important reference:** https://wiki.openstreetmap.org/wiki/Map_Features\n",
    "\n",
    "- OSM uses a *tagging* system to categorize different map features\n",
    "- The main feature categories are available on the OSM Wikipedia\n",
    "    - Examples: 'amenity', 'building', 'landuse', 'highway'\n",
    "- There are specific sub-categories for each feature type too:\n",
    "    - Amenity examples: 'bar', 'college', 'library'\n",
    "\n",
    "In the language of OSM, the \"key\" is the main feature category (e.g., amenity) and the \"value\" is the sub-category type (e.g., \"bar\")\n",
    ":::"
   ]
  },
  {
   "cell_type": "markdown",
   "metadata": {
    "slideshow": {
     "slide_type": "subslide"
    }
   },
   "source": [
    "`osmnx` mirrors the key/value syntax of OSM. Use a dict to specify the features you want: "
   ]
  },
  {
   "cell_type": "code",
   "execution_count": 35,
   "metadata": {
    "slideshow": {
     "slide_type": "subslide"
    },
    "tags": []
   },
   "outputs": [],
   "source": [
    "# Get all amenities in Philadelphia\n",
    "amenities = ox.features_from_place(\"Honiara, Solomon Islands\", tags={\"amenity\": True})"
   ]
  },
  {
   "cell_type": "code",
   "execution_count": 36,
   "metadata": {
    "tags": []
   },
   "outputs": [
    {
     "data": {
      "text/plain": [
       "101"
      ]
     },
     "execution_count": 36,
     "metadata": {},
     "output_type": "execute_result"
    }
   ],
   "source": [
    "len(amenities)"
   ]
  },
  {
   "cell_type": "code",
   "execution_count": 37,
   "metadata": {
    "slideshow": {
     "slide_type": "subslide"
    },
    "tags": []
   },
   "outputs": [
    {
     "data": {
      "text/html": [
       "<div>\n",
       "<style scoped>\n",
       "    .dataframe tbody tr th:only-of-type {\n",
       "        vertical-align: middle;\n",
       "    }\n",
       "\n",
       "    .dataframe tbody tr th {\n",
       "        vertical-align: top;\n",
       "    }\n",
       "\n",
       "    .dataframe thead th {\n",
       "        text-align: right;\n",
       "    }\n",
       "</style>\n",
       "<table border=\"1\" class=\"dataframe\">\n",
       "  <thead>\n",
       "    <tr style=\"text-align: right;\">\n",
       "      <th></th>\n",
       "      <th></th>\n",
       "      <th>amenity</th>\n",
       "      <th>name</th>\n",
       "      <th>source</th>\n",
       "      <th>geometry</th>\n",
       "      <th>emergency</th>\n",
       "      <th>healthcare</th>\n",
       "      <th>denomination</th>\n",
       "      <th>religion</th>\n",
       "      <th>cuisine</th>\n",
       "      <th>atm</th>\n",
       "      <th>internet_access</th>\n",
       "      <th>opening_hours</th>\n",
       "      <th>operator</th>\n",
       "      <th>name:en</th>\n",
       "      <th>bus</th>\n",
       "      <th>public_transport</th>\n",
       "      <th>addr:city</th>\n",
       "      <th>fuel:Petrol</th>\n",
       "      <th>fuel:diesel</th>\n",
       "      <th>fuel:kerosene</th>\n",
       "      <th>drive_through</th>\n",
       "      <th>addr:street</th>\n",
       "      <th>website</th>\n",
       "      <th>phone</th>\n",
       "      <th>note</th>\n",
       "      <th>contact:facebook</th>\n",
       "      <th>craft</th>\n",
       "      <th>level</th>\n",
       "      <th>shop</th>\n",
       "      <th>nodes</th>\n",
       "      <th>building</th>\n",
       "      <th>building:levels</th>\n",
       "      <th>outdoor_seating</th>\n",
       "      <th>smoking</th>\n",
       "      <th>start_date</th>\n",
       "      <th>damaged</th>\n",
       "      <th>building_type</th>\n",
       "      <th>description</th>\n",
       "      <th>short_name</th>\n",
       "    </tr>\n",
       "    <tr>\n",
       "      <th>element_type</th>\n",
       "      <th>osmid</th>\n",
       "      <th></th>\n",
       "      <th></th>\n",
       "      <th></th>\n",
       "      <th></th>\n",
       "      <th></th>\n",
       "      <th></th>\n",
       "      <th></th>\n",
       "      <th></th>\n",
       "      <th></th>\n",
       "      <th></th>\n",
       "      <th></th>\n",
       "      <th></th>\n",
       "      <th></th>\n",
       "      <th></th>\n",
       "      <th></th>\n",
       "      <th></th>\n",
       "      <th></th>\n",
       "      <th></th>\n",
       "      <th></th>\n",
       "      <th></th>\n",
       "      <th></th>\n",
       "      <th></th>\n",
       "      <th></th>\n",
       "      <th></th>\n",
       "      <th></th>\n",
       "      <th></th>\n",
       "      <th></th>\n",
       "      <th></th>\n",
       "      <th></th>\n",
       "      <th></th>\n",
       "      <th></th>\n",
       "      <th></th>\n",
       "      <th></th>\n",
       "      <th></th>\n",
       "      <th></th>\n",
       "      <th></th>\n",
       "      <th></th>\n",
       "      <th></th>\n",
       "      <th></th>\n",
       "    </tr>\n",
       "  </thead>\n",
       "  <tbody>\n",
       "    <tr>\n",
       "      <th rowspan=\"5\" valign=\"top\">node</th>\n",
       "      <th>693014217</th>\n",
       "      <td>police</td>\n",
       "      <td>Rove Headquarters</td>\n",
       "      <td>approximation</td>\n",
       "      <td>POINT (159.94302 -9.42899)</td>\n",
       "      <td>NaN</td>\n",
       "      <td>NaN</td>\n",
       "      <td>NaN</td>\n",
       "      <td>NaN</td>\n",
       "      <td>NaN</td>\n",
       "      <td>NaN</td>\n",
       "      <td>NaN</td>\n",
       "      <td>NaN</td>\n",
       "      <td>NaN</td>\n",
       "      <td>NaN</td>\n",
       "      <td>NaN</td>\n",
       "      <td>NaN</td>\n",
       "      <td>NaN</td>\n",
       "      <td>NaN</td>\n",
       "      <td>NaN</td>\n",
       "      <td>NaN</td>\n",
       "      <td>NaN</td>\n",
       "      <td>NaN</td>\n",
       "      <td>NaN</td>\n",
       "      <td>NaN</td>\n",
       "      <td>NaN</td>\n",
       "      <td>NaN</td>\n",
       "      <td>NaN</td>\n",
       "      <td>NaN</td>\n",
       "      <td>NaN</td>\n",
       "      <td>NaN</td>\n",
       "      <td>NaN</td>\n",
       "      <td>NaN</td>\n",
       "      <td>NaN</td>\n",
       "      <td>NaN</td>\n",
       "      <td>NaN</td>\n",
       "      <td>NaN</td>\n",
       "      <td>NaN</td>\n",
       "      <td>NaN</td>\n",
       "      <td>NaN</td>\n",
       "    </tr>\n",
       "    <tr>\n",
       "      <th>693014237</th>\n",
       "      <td>fuel</td>\n",
       "      <td>NaN</td>\n",
       "      <td>NaN</td>\n",
       "      <td>POINT (159.96662 -9.43883)</td>\n",
       "      <td>NaN</td>\n",
       "      <td>NaN</td>\n",
       "      <td>NaN</td>\n",
       "      <td>NaN</td>\n",
       "      <td>NaN</td>\n",
       "      <td>NaN</td>\n",
       "      <td>NaN</td>\n",
       "      <td>NaN</td>\n",
       "      <td>NaN</td>\n",
       "      <td>NaN</td>\n",
       "      <td>NaN</td>\n",
       "      <td>NaN</td>\n",
       "      <td>NaN</td>\n",
       "      <td>NaN</td>\n",
       "      <td>NaN</td>\n",
       "      <td>NaN</td>\n",
       "      <td>NaN</td>\n",
       "      <td>NaN</td>\n",
       "      <td>NaN</td>\n",
       "      <td>NaN</td>\n",
       "      <td>NaN</td>\n",
       "      <td>NaN</td>\n",
       "      <td>NaN</td>\n",
       "      <td>NaN</td>\n",
       "      <td>NaN</td>\n",
       "      <td>NaN</td>\n",
       "      <td>NaN</td>\n",
       "      <td>NaN</td>\n",
       "      <td>NaN</td>\n",
       "      <td>NaN</td>\n",
       "      <td>NaN</td>\n",
       "      <td>NaN</td>\n",
       "      <td>NaN</td>\n",
       "      <td>NaN</td>\n",
       "      <td>NaN</td>\n",
       "    </tr>\n",
       "    <tr>\n",
       "      <th>693014246</th>\n",
       "      <td>casino</td>\n",
       "      <td>NaN</td>\n",
       "      <td>approximation</td>\n",
       "      <td>POINT (159.95755 -9.43145)</td>\n",
       "      <td>NaN</td>\n",
       "      <td>NaN</td>\n",
       "      <td>NaN</td>\n",
       "      <td>NaN</td>\n",
       "      <td>NaN</td>\n",
       "      <td>NaN</td>\n",
       "      <td>NaN</td>\n",
       "      <td>NaN</td>\n",
       "      <td>NaN</td>\n",
       "      <td>NaN</td>\n",
       "      <td>NaN</td>\n",
       "      <td>NaN</td>\n",
       "      <td>NaN</td>\n",
       "      <td>NaN</td>\n",
       "      <td>NaN</td>\n",
       "      <td>NaN</td>\n",
       "      <td>NaN</td>\n",
       "      <td>NaN</td>\n",
       "      <td>NaN</td>\n",
       "      <td>NaN</td>\n",
       "      <td>NaN</td>\n",
       "      <td>NaN</td>\n",
       "      <td>NaN</td>\n",
       "      <td>NaN</td>\n",
       "      <td>NaN</td>\n",
       "      <td>NaN</td>\n",
       "      <td>NaN</td>\n",
       "      <td>NaN</td>\n",
       "      <td>NaN</td>\n",
       "      <td>NaN</td>\n",
       "      <td>NaN</td>\n",
       "      <td>NaN</td>\n",
       "      <td>NaN</td>\n",
       "      <td>NaN</td>\n",
       "      <td>NaN</td>\n",
       "    </tr>\n",
       "    <tr>\n",
       "      <th>693021926</th>\n",
       "      <td>bank</td>\n",
       "      <td>Centralbank</td>\n",
       "      <td>NaN</td>\n",
       "      <td>POINT (159.95294 -9.43090)</td>\n",
       "      <td>NaN</td>\n",
       "      <td>NaN</td>\n",
       "      <td>NaN</td>\n",
       "      <td>NaN</td>\n",
       "      <td>NaN</td>\n",
       "      <td>NaN</td>\n",
       "      <td>NaN</td>\n",
       "      <td>NaN</td>\n",
       "      <td>NaN</td>\n",
       "      <td>NaN</td>\n",
       "      <td>NaN</td>\n",
       "      <td>NaN</td>\n",
       "      <td>NaN</td>\n",
       "      <td>NaN</td>\n",
       "      <td>NaN</td>\n",
       "      <td>NaN</td>\n",
       "      <td>NaN</td>\n",
       "      <td>NaN</td>\n",
       "      <td>NaN</td>\n",
       "      <td>NaN</td>\n",
       "      <td>NaN</td>\n",
       "      <td>NaN</td>\n",
       "      <td>NaN</td>\n",
       "      <td>NaN</td>\n",
       "      <td>NaN</td>\n",
       "      <td>NaN</td>\n",
       "      <td>NaN</td>\n",
       "      <td>NaN</td>\n",
       "      <td>NaN</td>\n",
       "      <td>NaN</td>\n",
       "      <td>NaN</td>\n",
       "      <td>NaN</td>\n",
       "      <td>NaN</td>\n",
       "      <td>NaN</td>\n",
       "      <td>NaN</td>\n",
       "    </tr>\n",
       "    <tr>\n",
       "      <th>693021929</th>\n",
       "      <td>fuel</td>\n",
       "      <td>Solomon Motors</td>\n",
       "      <td>approximation</td>\n",
       "      <td>POINT (159.95498 -9.43078)</td>\n",
       "      <td>NaN</td>\n",
       "      <td>NaN</td>\n",
       "      <td>NaN</td>\n",
       "      <td>NaN</td>\n",
       "      <td>NaN</td>\n",
       "      <td>NaN</td>\n",
       "      <td>NaN</td>\n",
       "      <td>NaN</td>\n",
       "      <td>NaN</td>\n",
       "      <td>NaN</td>\n",
       "      <td>NaN</td>\n",
       "      <td>NaN</td>\n",
       "      <td>NaN</td>\n",
       "      <td>NaN</td>\n",
       "      <td>NaN</td>\n",
       "      <td>NaN</td>\n",
       "      <td>NaN</td>\n",
       "      <td>NaN</td>\n",
       "      <td>NaN</td>\n",
       "      <td>NaN</td>\n",
       "      <td>NaN</td>\n",
       "      <td>NaN</td>\n",
       "      <td>NaN</td>\n",
       "      <td>NaN</td>\n",
       "      <td>NaN</td>\n",
       "      <td>NaN</td>\n",
       "      <td>NaN</td>\n",
       "      <td>NaN</td>\n",
       "      <td>NaN</td>\n",
       "      <td>NaN</td>\n",
       "      <td>NaN</td>\n",
       "      <td>NaN</td>\n",
       "      <td>NaN</td>\n",
       "      <td>NaN</td>\n",
       "      <td>NaN</td>\n",
       "    </tr>\n",
       "  </tbody>\n",
       "</table>\n",
       "</div>"
      ],
      "text/plain": [
       "                       amenity               name         source  \\\n",
       "element_type osmid                                                 \n",
       "node         693014217  police  Rove Headquarters  approximation   \n",
       "             693014237    fuel                NaN            NaN   \n",
       "             693014246  casino                NaN  approximation   \n",
       "             693021926    bank        Centralbank            NaN   \n",
       "             693021929    fuel     Solomon Motors  approximation   \n",
       "\n",
       "                                          geometry emergency healthcare  \\\n",
       "element_type osmid                                                        \n",
       "node         693014217  POINT (159.94302 -9.42899)       NaN        NaN   \n",
       "             693014237  POINT (159.96662 -9.43883)       NaN        NaN   \n",
       "             693014246  POINT (159.95755 -9.43145)       NaN        NaN   \n",
       "             693021926  POINT (159.95294 -9.43090)       NaN        NaN   \n",
       "             693021929  POINT (159.95498 -9.43078)       NaN        NaN   \n",
       "\n",
       "                       denomination religion cuisine  atm internet_access  \\\n",
       "element_type osmid                                                          \n",
       "node         693014217          NaN      NaN     NaN  NaN             NaN   \n",
       "             693014237          NaN      NaN     NaN  NaN             NaN   \n",
       "             693014246          NaN      NaN     NaN  NaN             NaN   \n",
       "             693021926          NaN      NaN     NaN  NaN             NaN   \n",
       "             693021929          NaN      NaN     NaN  NaN             NaN   \n",
       "\n",
       "                       opening_hours operator name:en  bus public_transport  \\\n",
       "element_type osmid                                                            \n",
       "node         693014217           NaN      NaN     NaN  NaN              NaN   \n",
       "             693014237           NaN      NaN     NaN  NaN              NaN   \n",
       "             693014246           NaN      NaN     NaN  NaN              NaN   \n",
       "             693021926           NaN      NaN     NaN  NaN              NaN   \n",
       "             693021929           NaN      NaN     NaN  NaN              NaN   \n",
       "\n",
       "                       addr:city fuel:Petrol fuel:diesel fuel:kerosene  \\\n",
       "element_type osmid                                                       \n",
       "node         693014217       NaN         NaN         NaN           NaN   \n",
       "             693014237       NaN         NaN         NaN           NaN   \n",
       "             693014246       NaN         NaN         NaN           NaN   \n",
       "             693021926       NaN         NaN         NaN           NaN   \n",
       "             693021929       NaN         NaN         NaN           NaN   \n",
       "\n",
       "                       drive_through addr:street website phone note  \\\n",
       "element_type osmid                                                    \n",
       "node         693014217           NaN         NaN     NaN   NaN  NaN   \n",
       "             693014237           NaN         NaN     NaN   NaN  NaN   \n",
       "             693014246           NaN         NaN     NaN   NaN  NaN   \n",
       "             693021926           NaN         NaN     NaN   NaN  NaN   \n",
       "             693021929           NaN         NaN     NaN   NaN  NaN   \n",
       "\n",
       "                       contact:facebook craft level shop nodes building  \\\n",
       "element_type osmid                                                        \n",
       "node         693014217              NaN   NaN   NaN  NaN   NaN      NaN   \n",
       "             693014237              NaN   NaN   NaN  NaN   NaN      NaN   \n",
       "             693014246              NaN   NaN   NaN  NaN   NaN      NaN   \n",
       "             693021926              NaN   NaN   NaN  NaN   NaN      NaN   \n",
       "             693021929              NaN   NaN   NaN  NaN   NaN      NaN   \n",
       "\n",
       "                       building:levels outdoor_seating smoking start_date  \\\n",
       "element_type osmid                                                          \n",
       "node         693014217             NaN             NaN     NaN        NaN   \n",
       "             693014237             NaN             NaN     NaN        NaN   \n",
       "             693014246             NaN             NaN     NaN        NaN   \n",
       "             693021926             NaN             NaN     NaN        NaN   \n",
       "             693021929             NaN             NaN     NaN        NaN   \n",
       "\n",
       "                       damaged building_type description short_name  \n",
       "element_type osmid                                                   \n",
       "node         693014217     NaN           NaN         NaN        NaN  \n",
       "             693014237     NaN           NaN         NaN        NaN  \n",
       "             693014246     NaN           NaN         NaN        NaN  \n",
       "             693021926     NaN           NaN         NaN        NaN  \n",
       "             693021929     NaN           NaN         NaN        NaN  "
      ]
     },
     "execution_count": 37,
     "metadata": {},
     "output_type": "execute_result"
    }
   ],
   "source": [
    "amenities.head()"
   ]
  },
  {
   "cell_type": "code",
   "execution_count": 38,
   "metadata": {
    "slideshow": {
     "slide_type": "subslide"
    },
    "tags": []
   },
   "outputs": [],
   "source": [
    "# Get bus stop features\n",
    "bus_stops = ox.features_from_place(\"Honiara, Solomon Islands\", tags={\"highway\": \"secondary\"})"
   ]
  },
  {
   "cell_type": "code",
   "execution_count": 39,
   "metadata": {
    "tags": []
   },
   "outputs": [
    {
     "data": {
      "text/plain": [
       "24"
      ]
     },
     "execution_count": 39,
     "metadata": {},
     "output_type": "execute_result"
    }
   ],
   "source": [
    "len(bus_stops)"
   ]
  },
  {
   "cell_type": "code",
   "execution_count": 40,
   "metadata": {
    "slideshow": {
     "slide_type": "subslide"
    },
    "tags": []
   },
   "outputs": [
    {
     "data": {
      "text/html": [
       "<div>\n",
       "<style scoped>\n",
       "    .dataframe tbody tr th:only-of-type {\n",
       "        vertical-align: middle;\n",
       "    }\n",
       "\n",
       "    .dataframe tbody tr th {\n",
       "        vertical-align: top;\n",
       "    }\n",
       "\n",
       "    .dataframe thead th {\n",
       "        text-align: right;\n",
       "    }\n",
       "</style>\n",
       "<table border=\"1\" class=\"dataframe\">\n",
       "  <thead>\n",
       "    <tr style=\"text-align: right;\">\n",
       "      <th></th>\n",
       "      <th></th>\n",
       "      <th>nodes</th>\n",
       "      <th>bridge</th>\n",
       "      <th>highway</th>\n",
       "      <th>layer</th>\n",
       "      <th>oneway</th>\n",
       "      <th>geometry</th>\n",
       "      <th>name</th>\n",
       "      <th>junction</th>\n",
       "      <th>fixme</th>\n",
       "    </tr>\n",
       "    <tr>\n",
       "      <th>element_type</th>\n",
       "      <th>osmid</th>\n",
       "      <th></th>\n",
       "      <th></th>\n",
       "      <th></th>\n",
       "      <th></th>\n",
       "      <th></th>\n",
       "      <th></th>\n",
       "      <th></th>\n",
       "      <th></th>\n",
       "      <th></th>\n",
       "    </tr>\n",
       "  </thead>\n",
       "  <tbody>\n",
       "    <tr>\n",
       "      <th rowspan=\"5\" valign=\"top\">way</th>\n",
       "      <th>30711700</th>\n",
       "      <td>[339661166, 339661164]</td>\n",
       "      <td>yes</td>\n",
       "      <td>secondary</td>\n",
       "      <td>1</td>\n",
       "      <td>yes</td>\n",
       "      <td>LINESTRING (159.96729 -9.43605, 159.96664 -9.4...</td>\n",
       "      <td>NaN</td>\n",
       "      <td>NaN</td>\n",
       "      <td>NaN</td>\n",
       "    </tr>\n",
       "    <tr>\n",
       "      <th>30711701</th>\n",
       "      <td>[6806772554, 6813071845, 6813071846, 681307184...</td>\n",
       "      <td>NaN</td>\n",
       "      <td>secondary</td>\n",
       "      <td>NaN</td>\n",
       "      <td>yes</td>\n",
       "      <td>LINESTRING (160.02792 -9.42829, 160.02787 -9.4...</td>\n",
       "      <td>Kukum Highway</td>\n",
       "      <td>NaN</td>\n",
       "      <td>NaN</td>\n",
       "    </tr>\n",
       "    <tr>\n",
       "      <th>30711704</th>\n",
       "      <td>[339661623, 339661621]</td>\n",
       "      <td>yes</td>\n",
       "      <td>secondary</td>\n",
       "      <td>1</td>\n",
       "      <td>yes</td>\n",
       "      <td>LINESTRING (159.96666 -9.43597, 159.96728 -9.4...</td>\n",
       "      <td>NaN</td>\n",
       "      <td>NaN</td>\n",
       "      <td>NaN</td>\n",
       "    </tr>\n",
       "    <tr>\n",
       "      <th>161841698</th>\n",
       "      <td>[1737969008, 5706121101, 5706121100, 339661756...</td>\n",
       "      <td>NaN</td>\n",
       "      <td>secondary</td>\n",
       "      <td>NaN</td>\n",
       "      <td>yes</td>\n",
       "      <td>LINESTRING (160.00497 -9.42856, 160.00501 -9.4...</td>\n",
       "      <td>Kukum Highway</td>\n",
       "      <td>NaN</td>\n",
       "      <td>NaN</td>\n",
       "    </tr>\n",
       "    <tr>\n",
       "      <th>161841700</th>\n",
       "      <td>[1737969113, 1737968994, 1737969141, 173796900...</td>\n",
       "      <td>NaN</td>\n",
       "      <td>secondary</td>\n",
       "      <td>NaN</td>\n",
       "      <td>NaN</td>\n",
       "      <td>LINESTRING (160.00486 -9.42852, 160.00490 -9.4...</td>\n",
       "      <td>NaN</td>\n",
       "      <td>roundabout</td>\n",
       "      <td>NaN</td>\n",
       "    </tr>\n",
       "  </tbody>\n",
       "</table>\n",
       "</div>"
      ],
      "text/plain": [
       "                                                                    nodes  \\\n",
       "element_type osmid                                                          \n",
       "way          30711700                              [339661166, 339661164]   \n",
       "             30711701   [6806772554, 6813071845, 6813071846, 681307184...   \n",
       "             30711704                              [339661623, 339661621]   \n",
       "             161841698  [1737969008, 5706121101, 5706121100, 339661756...   \n",
       "             161841700  [1737969113, 1737968994, 1737969141, 173796900...   \n",
       "\n",
       "                       bridge    highway layer oneway  \\\n",
       "element_type osmid                                      \n",
       "way          30711700     yes  secondary     1    yes   \n",
       "             30711701     NaN  secondary   NaN    yes   \n",
       "             30711704     yes  secondary     1    yes   \n",
       "             161841698    NaN  secondary   NaN    yes   \n",
       "             161841700    NaN  secondary   NaN    NaN   \n",
       "\n",
       "                                                                 geometry  \\\n",
       "element_type osmid                                                          \n",
       "way          30711700   LINESTRING (159.96729 -9.43605, 159.96664 -9.4...   \n",
       "             30711701   LINESTRING (160.02792 -9.42829, 160.02787 -9.4...   \n",
       "             30711704   LINESTRING (159.96666 -9.43597, 159.96728 -9.4...   \n",
       "             161841698  LINESTRING (160.00497 -9.42856, 160.00501 -9.4...   \n",
       "             161841700  LINESTRING (160.00486 -9.42852, 160.00490 -9.4...   \n",
       "\n",
       "                                 name    junction fixme  \n",
       "element_type osmid                                       \n",
       "way          30711700             NaN         NaN   NaN  \n",
       "             30711701   Kukum Highway         NaN   NaN  \n",
       "             30711704             NaN         NaN   NaN  \n",
       "             161841698  Kukum Highway         NaN   NaN  \n",
       "             161841700            NaN  roundabout   NaN  "
      ]
     },
     "execution_count": 40,
     "metadata": {},
     "output_type": "execute_result"
    }
   ],
   "source": [
    "bus_stops.head()"
   ]
  },
  {
   "cell_type": "code",
   "execution_count": 45,
   "metadata": {
    "slideshow": {
     "slide_type": "subslide"
    },
    "tags": []
   },
   "outputs": [],
   "source": [
    "# Get commercial and retail landuse features\n",
    "landuse = ox.features_from_place(\n",
    "    \"Honiara, Solomon Islands\", tags={\"landuse\": [\"commercial\", \"retail\"]}\n",
    ")"
   ]
  },
  {
   "cell_type": "code",
   "execution_count": 46,
   "metadata": {
    "tags": []
   },
   "outputs": [
    {
     "data": {
      "text/plain": [
       "32"
      ]
     },
     "execution_count": 46,
     "metadata": {},
     "output_type": "execute_result"
    }
   ],
   "source": [
    "len(landuse)"
   ]
  },
  {
   "cell_type": "markdown",
   "metadata": {},
   "source": [
    "Let's plot the land use features:"
   ]
  },
  {
   "cell_type": "code",
   "execution_count": 47,
   "metadata": {
    "slideshow": {
     "slide_type": "subslide"
    }
   },
   "outputs": [
    {
     "data": {
      "image/png": "[encoded data removed]",
      "text/plain": [
       "<Figure size 1000x600 with 1 Axes>"
      ]
     },
     "metadata": {},
     "output_type": "display_data"
    }
   ],
   "source": [
    "fig, ax = plt.subplots(figsize=(10, 6))\n",
    "\n",
    "ax = landuse.plot(ax=ax)\n",
    "ax.set_axis_off()"
   ]
  },
  {
   "cell_type": "markdown",
   "metadata": {
    "slideshow": {
     "slide_type": "slide"
    }
   },
   "source": [
    "### 1.4 Downloading street networks\n",
    "\n",
    "Key functions: `graph_from_*` \n",
    "\n",
    "- `graph_from_place()` ([docs](https://osmnx.readthedocs.io/en/stable/osmnx.html#osmnx.graph.graph_from_place))\n",
    "     - Download street network within an OSM place boundary\n",
    "- `graph_from_address()` ([docs](https://osmnx.readthedocs.io/en/stable/osmnx.html#osmnx.graph.graph_from_address))\n",
    "    - Download street network within a certain distance of an address\n",
    "- `graph_from_bbox()` ([docs](https://osmnx.readthedocs.io/en/stable/osmnx.html#osmnx.graph.graph_from_bbox))\n",
    "    - Download street network within a N, S, E, W bounding box\n",
    "- `graph_from_point()` ([docs](https://osmnx.readthedocs.io/en/stable/osmnx.html#osmnx.graph.graph_from_point)) \n",
    "    - Download street network within a certain distance of a specified point\n",
    "- `graph_from_polygon()` ([docs](https://osmnx.readthedocs.io/en/stable/osmnx.html#osmnx.graph.graph_from_polygon))\n",
    "    - Download street network within a polygon object"
   ]
  },
  {
   "cell_type": "markdown",
   "metadata": {
    "slideshow": {
     "slide_type": "slide"
    }
   },
   "source": [
    "#### Street network around an address\n",
    "\n",
    "Get streets within 500 meters of the center of Center City"
   ]
  },
  {
   "cell_type": "code",
   "execution_count": 49,
   "metadata": {
    "slideshow": {
     "slide_type": "fragment"
    },
    "tags": []
   },
   "outputs": [
    {
     "ename": "TypeError",
     "evalue": "graph_from_place() got an unexpected keyword argument 'dist'",
     "output_type": "error",
     "traceback": [
      "\u001b[0;31m---------------------------------------------------------------------------\u001b[0m",
      "\u001b[0;31mTypeError\u001b[0m                                 Traceback (most recent call last)",
      "Cell \u001b[0;32mIn[49], line 1\u001b[0m\n\u001b[0;32m----> 1\u001b[0m G \u001b[38;5;241m=\u001b[39m \u001b[43mox\u001b[49m\u001b[38;5;241;43m.\u001b[39;49m\u001b[43mgraph_from_place\u001b[49m\u001b[43m(\u001b[49m\u001b[38;5;124;43m\"\u001b[39;49m\u001b[38;5;124;43mHoniara, Solomon Islands\u001b[39;49m\u001b[38;5;124;43m\"\u001b[39;49m\u001b[43m,\u001b[49m\u001b[43m \u001b[49m\u001b[43mdist\u001b[49m\u001b[38;5;241;43m=\u001b[39;49m\u001b[38;5;241;43m500\u001b[39;49m\u001b[43m)\u001b[49m\n",
      "\u001b[0;31mTypeError\u001b[0m: graph_from_place() got an unexpected keyword argument 'dist'"
     ]
    }
   ],
   "source": [
    "G = ox.graph_from_place(\"Honiara, Solomon Islands\", dist=500)"
   ]
  },
  {
   "cell_type": "markdown",
   "metadata": {
    "slideshow": {
     "slide_type": "subslide"
    }
   },
   "source": [
    "Project and plot it:"
   ]
  },
  {
   "cell_type": "code",
   "execution_count": null,
   "metadata": {
    "slideshow": {
     "slide_type": "fragment"
    },
    "tags": []
   },
   "outputs": [],
   "source": [
    "G_projected = ox.project_graph(G)\n",
    "ox.plot_graph(G_projected);"
   ]
  },
  {
   "cell_type": "markdown",
   "metadata": {
    "slideshow": {
     "slide_type": "subslide"
    }
   },
   "source": [
    "Remove the nodes:"
   ]
  },
  {
   "cell_type": "code",
   "execution_count": null,
   "metadata": {
    "slideshow": {
     "slide_type": "fragment"
    }
   },
   "outputs": [],
   "source": [
    "ox.plot_graph(G_projected, node_size=0);"
   ]
  },
  {
   "cell_type": "markdown",
   "metadata": {
    "slideshow": {
     "slide_type": "subslide"
    }
   },
   "source": [
    "Let's zoom out to 2,000 meters. This will take a little longer."
   ]
  },
  {
   "cell_type": "code",
   "execution_count": null,
   "metadata": {
    "slideshow": {
     "slide_type": "fragment"
    }
   },
   "outputs": [],
   "source": [
    "G = ox.graph_from_address(\"Center City, Philadelphia, PA\", dist=2000)\n",
    "G_projected = ox.project_graph(G)"
   ]
  },
  {
   "cell_type": "code",
   "execution_count": null,
   "metadata": {
    "slideshow": {
     "slide_type": "subslide"
    }
   },
   "outputs": [],
   "source": [
    "ox.plot_graph(G_projected, node_size=0);"
   ]
  },
  {
   "cell_type": "markdown",
   "metadata": {
    "slideshow": {
     "slide_type": "slide"
    }
   },
   "source": [
    "#### Getting different network types\n",
    "\n",
    "- `drive` - get drivable public streets (but not service roads)\n",
    "- `drive_service` - get drivable streets, including service roads\n",
    "- `walk` - get all streets and paths that pedestrians can use (this network type ignores one-way directionality)\n",
    "- `bike` - get all streets and paths that cyclists can use\n",
    "- `all` - download all non-private OSM streets and paths\n",
    "- `all_private` - download all OSM streets and paths, including private-access ones (default)"
   ]
  },
  {
   "cell_type": "code",
   "execution_count": null,
   "metadata": {
    "slideshow": {
     "slide_type": "subslide"
    }
   },
   "outputs": [],
   "source": [
    "# the \"drive\" network\n",
    "G = ox.graph_from_address(\"Center City, Philadelphia, PA\", network_type=\"drive\")\n",
    "ox.plot_graph(G);"
   ]
  },
  {
   "cell_type": "code",
   "execution_count": null,
   "metadata": {
    "slideshow": {
     "slide_type": "subslide"
    }
   },
   "outputs": [],
   "source": [
    "# the \"walk\" network\n",
    "G = ox.graph_from_address(\"Center City, Philadelphia, PA\", network_type=\"walk\")\n",
    "ox.plot_graph(ox.project_graph(G));"
   ]
  },
  {
   "cell_type": "markdown",
   "metadata": {
    "slideshow": {
     "slide_type": "slide"
    }
   },
   "source": [
    "#### Street network within a place boundary\n",
    "\n",
    "Use `graph_from_place()` to get the streets within a specific OSM place.\n",
    "\n",
    "::: {.callout-caution}\n",
    "\n",
    "A couple of things to watch out for: \n",
    "1. The place query has to be resolved by OSM.\n",
    "2. If the place is a big city, you might be downloading a lot of data!\n",
    "\n",
    ":::"
   ]
  },
  {
   "cell_type": "markdown",
   "metadata": {},
   "source": [
    "Let's check out the street network for Berkeley, CA:"
   ]
  },
  {
   "cell_type": "code",
   "execution_count": null,
   "metadata": {
    "slideshow": {
     "slide_type": "fragment"
    }
   },
   "outputs": [],
   "source": [
    "berkeley = ox.graph_from_place(\"Berkeley, California, USA\")"
   ]
  },
  {
   "cell_type": "code",
   "execution_count": null,
   "metadata": {
    "slideshow": {
     "slide_type": "subslide"
    }
   },
   "outputs": [],
   "source": [
    "ox.plot_graph(ox.project_graph(berkeley), node_size=0);"
   ]
  },
  {
   "cell_type": "markdown",
   "metadata": {
    "slideshow": {
     "slide_type": "slide"
    }
   },
   "source": [
    "#### Streets within a specific polygon\n",
    "\n",
    "**Example:** Let's download all streets within Center City. We will use the \"Central\" planning district as a proxy for this area. The city's planning districts are available on [Open Data Philly](https://opendataphilly.org/datasets/planning-districts/)."
   ]
  },
  {
   "cell_type": "code",
   "execution_count": null,
   "metadata": {
    "tags": []
   },
   "outputs": [],
   "source": [
    "planning_districts = gpd.read_file(\n",
    "    \"https://opendata.arcgis.com/datasets/0960ea0f38f44146bb562f2b212075aa_0.geojson\"\n",
    ")"
   ]
  },
  {
   "cell_type": "code",
   "execution_count": null,
   "metadata": {
    "tags": []
   },
   "outputs": [],
   "source": [
    "planning_districts.head()"
   ]
  },
  {
   "cell_type": "markdown",
   "metadata": {},
   "source": [
    "Trim to the central district:"
   ]
  },
  {
   "cell_type": "code",
   "execution_count": null,
   "metadata": {
    "tags": []
   },
   "outputs": [],
   "source": [
    "central_district = planning_districts.query(\"DIST_NAME == 'Central'\")"
   ]
  },
  {
   "cell_type": "markdown",
   "metadata": {},
   "source": [
    "And plot it:"
   ]
  },
  {
   "cell_type": "code",
   "execution_count": null,
   "metadata": {
    "slideshow": {
     "slide_type": "subslide"
    }
   },
   "outputs": [],
   "source": [
    "ax = ox.project_gdf(central_district).plot(fc=\"lightblue\", ec=\"gray\")\n",
    "ax.set_axis_off()"
   ]
  },
  {
   "cell_type": "markdown",
   "metadata": {},
   "source": [
    "Squeeze it so we can get the geometry polygon:"
   ]
  },
  {
   "cell_type": "code",
   "execution_count": null,
   "metadata": {
    "tags": []
   },
   "outputs": [],
   "source": [
    "center_city_outline = central_district.squeeze().geometry\n",
    "\n",
    "center_city_outline"
   ]
  },
  {
   "cell_type": "markdown",
   "metadata": {
    "slideshow": {
     "slide_type": "slide"
    }
   },
   "source": [
    "Now, let's use `ox.graph_from_polygon()` to extract streets within this polygon. "
   ]
  },
  {
   "cell_type": "code",
   "execution_count": null,
   "metadata": {
    "slideshow": {
     "slide_type": "subslide"
    },
    "tags": []
   },
   "outputs": [],
   "source": [
    "# Get the graph\n",
    "G_cc = ox.graph_from_polygon(Solomon Islands, network_type=\"drive\")"
   ]
  },
  {
   "cell_type": "code",
   "execution_count": null,
   "metadata": {
    "slideshow": {
     "slide_type": "subslide"
    },
    "tags": []
   },
   "outputs": [],
   "source": [
    "# Viola!\n",
    "ox.plot_graph(ox.project_graph(G_cc), node_size=0);"
   ]
  },
  {
   "cell_type": "markdown",
   "metadata": {
    "slideshow": {
     "slide_type": "slide"
    }
   },
   "source": [
    "### 1.5 Converting from a graph to a GeoDataFrame\n",
    "\n",
    "Key function: `ox.graph_to_gdfs()` ([docs](https://osmnx.readthedocs.io/en/stable/osmnx.html?highlight=graph_to_gdf#osmnx.utils_graph.graph_to_gdfs))\n",
    "\n",
    "You can get a GeoDataFrame for both the nodes (points) and edges (lines)"
   ]
  },
  {
   "cell_type": "code",
   "execution_count": null,
   "metadata": {},
   "outputs": [],
   "source": [
    "type(G_cc)"
   ]
  },
  {
   "cell_type": "code",
   "execution_count": null,
   "metadata": {
    "slideshow": {
     "slide_type": "subslide"
    }
   },
   "outputs": [],
   "source": [
    "# only get the edges\n",
    "cc_edges = ox.graph_to_gdfs(G_cc, edges=True, nodes=False)"
   ]
  },
  {
   "cell_type": "code",
   "execution_count": null,
   "metadata": {
    "slideshow": {
     "slide_type": "subslide"
    }
   },
   "outputs": [],
   "source": [
    "# we have lots of data associated with each edge!\n",
    "cc_edges.head()"
   ]
  },
  {
   "cell_type": "code",
   "execution_count": null,
   "metadata": {
    "slideshow": {
     "slide_type": "subslide"
    }
   },
   "outputs": [],
   "source": [
    "# plot it like any old GeoDataFrame\n",
    "ax = cc_edges.to_crs(epsg=3857).plot(color=\"gray\")\n",
    "\n",
    "# add the neighborhood boundaries\n",
    "boundary = gpd.GeoSeries([center_city_outline], crs=\"EPSG:4326\")\n",
    "boundary.to_crs(epsg=3857).plot(\n",
    "    ax=ax, facecolor=\"none\", edgecolor=\"red\", linewidth=3, zorder=2\n",
    ")\n",
    "\n",
    "ax.set_axis_off()"
   ]
  },
  {
   "cell_type": "markdown",
   "metadata": {},
   "source": [
    "**Don't forget:** We can use the `.explore()` function to get an interactive web map via Folium:"
   ]
  },
  {
   "cell_type": "code",
   "execution_count": null,
   "metadata": {
    "tags": []
   },
   "outputs": [],
   "source": [
    "cc_edges.explore(tiles='cartodb positron')"
   ]
  },
  {
   "cell_type": "markdown",
   "metadata": {
    "slideshow": {
     "slide_type": "slide"
    }
   },
   "source": [
    "### 1.6 What can we do with the graph?\n",
    "\n",
    "- Network-based statistics\n",
    "- Routing\n",
    "- Street orientations\n",
    "- Visualizing crashes\n",
    "\n",
    "And much more: see the [OSMnx repository of Jupyter notebook examples](https://github.com/gboeing/osmnx-examples/tree/master/notebooks)"
   ]
  },
  {
   "cell_type": "markdown",
   "metadata": {},
   "source": [
    "#### Street orientations"
   ]
  },
  {
   "cell_type": "markdown",
   "metadata": {},
   "source": [
    "A [great blog post](https://geoffboeing.com/2019/09/urban-street-network-orientation/) on street orientations across different US and global cities. \n",
    "\n",
    "One of my favorite examples of data viz, using matplotlib for *radial histograms* of street orientations...\n",
    "\n"
   ]
  },
  {
   "cell_type": "markdown",
   "metadata": {},
   "source": [
    "![](imgs/street-orientations.png){width=800}"
   ]
  },
  {
   "cell_type": "markdown",
   "metadata": {},
   "source": [
    "The code for these histograms is available in [the osmnx examples repository](https://github.com/gboeing/osmnx-examples/blob/main/notebooks/17-street-network-orientations.ipynb)."
   ]
  },
  {
   "cell_type": "markdown",
   "metadata": {
    "slideshow": {
     "slide_type": "subslide"
    }
   },
   "source": [
    "#### Network statistics\n",
    "\n",
    "We can use the `ox.basic_stats()` to get some basic network statistics"
   ]
  },
  {
   "cell_type": "code",
   "execution_count": null,
   "metadata": {
    "slideshow": {
     "slide_type": "subslide"
    }
   },
   "outputs": [],
   "source": [
    "ox.basic_stats(G_cc)"
   ]
  },
  {
   "cell_type": "markdown",
   "metadata": {
    "slideshow": {
     "slide_type": "slide"
    }
   },
   "source": [
    "#### Finding the shortest route\n",
    "\n",
    "Let's calculate the shortest route between [the Art Museum](https://www.openstreetmap.org/way/28533972) and the [Liberty Bell](https://www.openstreetmap.org/node/1207480649)."
   ]
  },
  {
   "cell_type": "markdown",
   "metadata": {},
   "source": [
    "We'll need to download all amenities in Philadelphia of type \"tourism\".\n",
    "\n",
    "- The `ox.features_from_place()` can download OSM features with a specific tag\n",
    "- You can consult the OSM pages ([the Art Museum](https://www.openstreetmap.org/way/28533972) and [Liberty Bell](https://www.openstreetmap.org/node/1207480649)) for each feature for additional info\n",
    "- Both features are categorized as \"tourism\" in the OSM data — use the \"tags\" keyword to select this category"
   ]
  },
  {
   "cell_type": "code",
   "execution_count": null,
   "metadata": {
    "slideshow": {
     "slide_type": "subslide"
    }
   },
   "outputs": [],
   "source": [
    "philly_tourism = ox.features_from_place(\"Philadelphia, PA\", tags={\"tourism\": True})"
   ]
  },
  {
   "cell_type": "code",
   "execution_count": null,
   "metadata": {},
   "outputs": [],
   "source": [
    "len(philly_tourism)"
   ]
  },
  {
   "cell_type": "code",
   "execution_count": null,
   "metadata": {
    "slideshow": {
     "slide_type": "subslide"
    }
   },
   "outputs": [],
   "source": [
    "philly_tourism.head()"
   ]
  },
  {
   "cell_type": "code",
   "execution_count": null,
   "metadata": {
    "slideshow": {
     "slide_type": "subslide"
    }
   },
   "outputs": [],
   "source": [
    "# How to find the name of the POI: search for keywords\n",
    "philly_tourism.loc[philly_tourism['name'].str.contains(\"Art\", na=False)]"
   ]
  },
  {
   "cell_type": "code",
   "execution_count": null,
   "metadata": {},
   "outputs": [],
   "source": [
    "art_museum = philly_tourism.query(\"name == 'Philadelphia Museum of Art'\").squeeze()\n",
    "\n",
    "art_museum.geometry"
   ]
  },
  {
   "cell_type": "code",
   "execution_count": null,
   "metadata": {
    "slideshow": {
     "slide_type": "subslide"
    }
   },
   "outputs": [],
   "source": [
    "liberty_bell = philly_tourism.query(\"name == 'Liberty Bell'\").squeeze()\n",
    "\n",
    "liberty_bell.geometry"
   ]
  },
  {
   "cell_type": "markdown",
   "metadata": {
    "slideshow": {
     "slide_type": "slide"
    }
   },
   "source": [
    "Now, extract the lat and lng coordinates\n",
    "\n",
    "For the Art Museum geometry, we can use the `.geometry.centroid` attribute to calculate the centroid of the building footprint. "
   ]
  },
  {
   "cell_type": "code",
   "execution_count": null,
   "metadata": {
    "hide_input": false,
    "slideshow": {
     "slide_type": "subslide"
    },
    "tags": []
   },
   "outputs": [],
   "source": [
    "liberty_bell_x = liberty_bell.geometry.x\n",
    "liberty_bell_y = liberty_bell.geometry.y"
   ]
  },
  {
   "cell_type": "code",
   "execution_count": null,
   "metadata": {
    "hide_input": false,
    "slideshow": {
     "slide_type": "subslide"
    },
    "tags": []
   },
   "outputs": [],
   "source": [
    "art_museum_x = art_museum.geometry.centroid.x\n",
    "art_museum_y = art_museum.geometry.centroid.y"
   ]
  },
  {
   "cell_type": "markdown",
   "metadata": {
    "slideshow": {
     "slide_type": "slide"
    }
   },
   "source": [
    "Find the nearest nodes on our OSMnx graph, using the `ox.nearest_nodes()` function\n"
   ]
  },
  {
   "cell_type": "code",
   "execution_count": null,
   "metadata": {
    "tags": []
   },
   "outputs": [],
   "source": [
    "ox.nearest_nodes?"
   ]
  },
  {
   "cell_type": "code",
   "execution_count": null,
   "metadata": {
    "slideshow": {
     "slide_type": "subslide"
    }
   },
   "outputs": [],
   "source": [
    "# Get the origin node\n",
    "orig_node = ox.nearest_nodes(G_cc, liberty_bell_x, liberty_bell_y) \n",
    "\n",
    "# Get the destination node\n",
    "dest_node = ox.nearest_nodes(G_cc, art_museum_x, art_museum_y)"
   ]
  },
  {
   "cell_type": "markdown",
   "metadata": {
    "slideshow": {
     "slide_type": "slide"
    }
   },
   "source": [
    "Now, we can use `ox.shortest_path()` function to find the shortest path between these graph nodes.\n",
    "\n",
    "::: {.callout-note}\n",
    "We need to specify weight='length' to find the shortest path by minimizing distance traveled (otherwise it treats each edge as weight=1).\n",
    ":::"
   ]
  },
  {
   "cell_type": "code",
   "execution_count": null,
   "metadata": {
    "slideshow": {
     "slide_type": "fragment"
    }
   },
   "outputs": [],
   "source": [
    "# get the shortest path --> just a list of node IDs\n",
    "route1 = ox.shortest_path(G_cc, orig_node, dest_node, weight=\"length\")\n",
    "\n",
    "route1"
   ]
  },
  {
   "cell_type": "markdown",
   "metadata": {
    "slideshow": {
     "slide_type": "slide"
    }
   },
   "source": [
    "Use `ox.plot_graph_route()` to plot a graph and highlight a specific route"
   ]
  },
  {
   "cell_type": "code",
   "execution_count": null,
   "metadata": {
    "slideshow": {
     "slide_type": "subslide"
    }
   },
   "outputs": [],
   "source": [
    "ox.plot_graph_route(G_cc, route1, node_size=0);"
   ]
  },
  {
   "cell_type": "markdown",
   "metadata": {},
   "source": [
    "How about an interactive version?\n",
    "\n",
    "`osmnx` has a helper function `ox.utils_graph.route_to_gdf()` to convert a route to a GeoDataFrame of edges."
   ]
  },
  {
   "cell_type": "code",
   "execution_count": null,
   "metadata": {
    "tags": []
   },
   "outputs": [],
   "source": [
    "ox.utils_graph.route_to_gdf(G_cc, route1, weight=\"length\").explore(\n",
    "    tiles=\"cartodb positron\",\n",
    "    color=\"red\",\n",
    ")"
   ]
  },
  {
   "cell_type": "markdown",
   "metadata": {},
   "source": [
    "#### Finding the shortest travel time\n",
    "\n",
    "\n",
    "The `add_edge_speeds` function add edge speeds (km per hour) to graph as new `speed_kph` edge attributes. \n",
    "\n",
    "The function will add free-flow travel speeds for all edges based on the average `maxspeed` value of edges, per highway type. This process can definitely be imprecise, but in the case that you happen to have more precise speed data, you can supply your own data instead of relying on OSM data. "
   ]
  },
  {
   "cell_type": "code",
   "execution_count": null,
   "metadata": {
    "tags": []
   },
   "outputs": [],
   "source": [
    "# impute speed on all edges missing data\n",
    "G_cc = ox.add_edge_speeds(G_cc)\n",
    "\n",
    "# calculate travel time (seconds) for all edges\n",
    "G_cc = ox.add_edge_travel_times(G_cc)"
   ]
  },
  {
   "cell_type": "code",
   "execution_count": null,
   "metadata": {
    "tags": []
   },
   "outputs": [],
   "source": [
    "# Get the graph edges\n",
    "edges = ox.graph_to_gdfs(G_cc, nodes=False)"
   ]
  },
  {
   "cell_type": "code",
   "execution_count": null,
   "metadata": {},
   "outputs": [],
   "source": [
    "edges.head()"
   ]
  },
  {
   "cell_type": "code",
   "execution_count": null,
   "metadata": {},
   "outputs": [],
   "source": [
    "# Groupby highway type and get the mean values\n",
    "edges[\"highway\"] = edges[\"highway\"].astype(str)\n",
    "edges.groupby(\"highway\")[[\"length\", \"speed_kph\", \"travel_time\"]].mean()"
   ]
  },
  {
   "cell_type": "code",
   "execution_count": null,
   "metadata": {
    "tags": []
   },
   "outputs": [],
   "source": [
    "# calculate two routes by minimizing travel time\n",
    "route2 = ox.shortest_path(G_cc, orig_node, dest_node, weight=\"travel_time\")"
   ]
  },
  {
   "cell_type": "code",
   "execution_count": null,
   "metadata": {
    "tags": []
   },
   "outputs": [],
   "source": [
    "# plot the routes\n",
    "fig, ax = ox.plot_graph_routes(\n",
    "    G_cc,\n",
    "    routes=[route1, route2],\n",
    "    route_colors=[\"r\", \"y\"],\n",
    "    route_linewidth=6,\n",
    "    node_size=0,\n",
    ")"
   ]
  },
  {
   "cell_type": "markdown",
   "metadata": {
    "tags": []
   },
   "source": [
    "Let's plot both in an interactive map:"
   ]
  },
  {
   "cell_type": "code",
   "execution_count": null,
   "metadata": {
    "tags": []
   },
   "outputs": [],
   "source": [
    "m = ox.utils_graph.route_to_gdf(G_cc, route1, weight=\"length\").explore(\n",
    "    tiles=\"cartodb dark matter\",\n",
    "    color=\"red\",\n",
    ")\n",
    "\n",
    "m = ox.utils_graph.route_to_gdf(G_cc, route2, weight=\"length\").explore(\n",
    "    tiles=\"cartodb dark matter\",\n",
    "    color=\"yellow\",\n",
    "    m=m\n",
    ")\n",
    "\n",
    "m"
   ]
  },
  {
   "cell_type": "markdown",
   "metadata": {},
   "source": [
    "Let's compare to the two routes:"
   ]
  },
  {
   "cell_type": "markdown",
   "metadata": {},
   "source": [
    "Distances:"
   ]
  },
  {
   "cell_type": "code",
   "execution_count": null,
   "metadata": {
    "tags": []
   },
   "outputs": [],
   "source": [
    "meters_to_miles = 0.0006213712\n",
    "\n",
    "# compare the two routes\n",
    "route1_length = (\n",
    "    ox.utils_graph.route_to_gdf(G_cc, route1, weight=\"length\")[\"length\"].sum()\n",
    "    * meters_to_miles\n",
    ")\n",
    "\n",
    "route2_length = (\n",
    "    ox.utils_graph.route_to_gdf(G_cc, route2, weight=\"length\")[\"length\"].sum()\n",
    "    * meters_to_miles\n",
    ")"
   ]
  },
  {
   "cell_type": "markdown",
   "metadata": {},
   "source": [
    "Travel times:"
   ]
  },
  {
   "cell_type": "code",
   "execution_count": null,
   "metadata": {
    "tags": []
   },
   "outputs": [],
   "source": [
    "seconds_to_mins = 1.0 / 60\n",
    "\n",
    "route1_time = (\n",
    "    ox.utils_graph.route_to_gdf(G_cc, route1, weight=\"travel_time\")[\"travel_time\"].sum()\n",
    "    * seconds_to_mins\n",
    ")\n",
    "route2_time = (\n",
    "    ox.utils_graph.route_to_gdf(G_cc, route2, weight=\"travel_time\")[\"travel_time\"].sum()\n",
    "    * seconds_to_mins\n",
    ")"
   ]
  },
  {
   "cell_type": "markdown",
   "metadata": {},
   "source": [
    "Summarize:"
   ]
  },
  {
   "cell_type": "code",
   "execution_count": null,
   "metadata": {
    "tags": []
   },
   "outputs": [],
   "source": [
    "print(f\"Route 1 is {route1_length:.2f} miles and takes {route1_time:.2f} minutes.\")\n",
    "print(f\"Route 2 is {route2_length:.2f} miles and takes {route2_time:.2f} minutes.\")"
   ]
  },
  {
   "cell_type": "markdown",
   "metadata": {
    "slideshow": {
     "slide_type": "slide"
    }
   },
   "source": [
    "## Part 2:  Pandana\n",
    "\n",
    "\"Pandas Network Analysis - dataframes of network queries, quickly\""
   ]
  },
  {
   "cell_type": "markdown",
   "metadata": {
    "slideshow": {
     "slide_type": "subslide"
    }
   },
   "source": [
    "A complementary set of OSM-related features: \n",
    "- Downloading OSM-based networks\n",
    "- Extracting amenity data (so-called \"Points of Interest\")\n",
    "- Calculating network-constrained distances"
   ]
  },
  {
   "cell_type": "markdown",
   "metadata": {
    "slideshow": {
     "slide_type": "subslide"
    }
   },
   "source": [
    "- [GitHub](https://github.com/UDST/pandana)\n",
    "- [Jupyter Notebook Examples](https://github.com/UDST/pandana/tree/master/examples)\n",
    "- [Documentation](http://udst.github.io/pandana/)"
   ]
  },
  {
   "cell_type": "code",
   "execution_count": null,
   "metadata": {
    "slideshow": {
     "slide_type": "slide"
    }
   },
   "outputs": [],
   "source": [
    "import pandana as pnda\n",
    "from pandana.loaders import osm"
   ]
  },
  {
   "cell_type": "markdown",
   "metadata": {
    "slideshow": {
     "slide_type": "slide"
    }
   },
   "source": [
    "### Step 1: Get amenity data\n",
    "\n",
    "Key function: `osm.node_query()`\n",
    "\n",
    "- This will extract amenities within a given bounding box.\n",
    "- Similar to the `ox.geometries_from_bbox()` function in OSMnx, but we slightly different syntax."
   ]
  },
  {
   "cell_type": "code",
   "execution_count": null,
   "metadata": {
    "slideshow": {
     "slide_type": "subslide"
    },
    "tags": []
   },
   "outputs": [],
   "source": [
    "osm.node_query?"
   ]
  },
  {
   "cell_type": "markdown",
   "metadata": {
    "slideshow": {
     "slide_type": "slide"
    }
   },
   "source": [
    "Get the bounding box for Northern Liberties / Fishtown:"
   ]
  },
  {
   "cell_type": "code",
   "execution_count": null,
   "metadata": {
    "slideshow": {
     "slide_type": "subslide"
    }
   },
   "outputs": [],
   "source": [
    "boundary = center_city_outline.bounds\n",
    "boundary"
   ]
  },
  {
   "cell_type": "code",
   "execution_count": null,
   "metadata": {
    "slideshow": {
     "slide_type": "fragment"
    }
   },
   "outputs": [],
   "source": [
    "[lng_min, lat_min, lng_max, lat_max] = boundary"
   ]
  },
  {
   "cell_type": "code",
   "execution_count": null,
   "metadata": {
    "slideshow": {
     "slide_type": "slide"
    }
   },
   "outputs": [],
   "source": [
    "# query OSM\n",
    "poi_df = osm.node_query(lat_min, lng_min, lat_max, lng_max)\n",
    "\n",
    "# remove missing data\n",
    "poi_df = poi_df.dropna(subset=[\"amenity\"])"
   ]
  },
  {
   "cell_type": "code",
   "execution_count": null,
   "metadata": {
    "slideshow": {
     "slide_type": "subslide"
    }
   },
   "outputs": [],
   "source": [
    "poi_df.head()"
   ]
  },
  {
   "cell_type": "code",
   "execution_count": null,
   "metadata": {
    "slideshow": {
     "slide_type": "subslide"
    }
   },
   "outputs": [],
   "source": [
    "len(poi_df)"
   ]
  },
  {
   "cell_type": "code",
   "execution_count": null,
   "metadata": {
    "slideshow": {
     "slide_type": "subslide"
    }
   },
   "outputs": [],
   "source": [
    "poi_df[[\"lat\", \"lon\", \"amenity\"]].head(10)"
   ]
  },
  {
   "cell_type": "markdown",
   "metadata": {
    "slideshow": {
     "slide_type": "slide"
    }
   },
   "source": [
    "#### Explore the amenities in this region\n",
    "\n",
    "For the full list of amenities, see the [OSM Wikipedia](https://wiki.openstreetmap.org/wiki/Key:amenity)"
   ]
  },
  {
   "cell_type": "code",
   "execution_count": null,
   "metadata": {
    "slideshow": {
     "slide_type": "subslide"
    }
   },
   "outputs": [],
   "source": [
    "chart = (\n",
    "    alt.Chart(poi_df)\n",
    "    .mark_bar()\n",
    "    .encode(y=alt.Y(\"amenity\", sort=\"-x\"), x=\"count()\", tooltip=[\"amenity\", \"count()\"])\n",
    ")\n",
    "\n",
    "chart"
   ]
  },
  {
   "cell_type": "markdown",
   "metadata": {
    "slideshow": {
     "slide_type": "slide"
    }
   },
   "source": [
    "### Step 2: Create a Pandana network\n",
    "\n",
    "- Key function: `pdna_network_from_bbox()` \n",
    "- It takes a bounding box and returns the OSM network within that region. \n",
    "- Multiple network types: 'walk' and 'drive'"
   ]
  },
  {
   "cell_type": "code",
   "execution_count": null,
   "metadata": {
    "slideshow": {
     "slide_type": "subslide"
    }
   },
   "outputs": [],
   "source": [
    "net = osm.pdna_network_from_bbox(\n",
    "    lat_min, lng_min, lat_max, lng_max, network_type=\"walk\"\n",
    ")"
   ]
  },
  {
   "cell_type": "markdown",
   "metadata": {
    "slideshow": {
     "slide_type": "slide"
    }
   },
   "source": [
    "### Step 3: Tell the network the location of amenities\n",
    "\n",
    "Key function: `network.set_pois()`\n",
    "\n",
    "- Today, we'll explore these four amenities: \"restaurant\", \"bar\", \"school\", \"car_sharing\"\n",
    "- **IMPORTANT:** if you want to explore other amenities, you'll need to run the code below for your amenities of interest"
   ]
  },
  {
   "cell_type": "code",
   "execution_count": null,
   "metadata": {
    "slideshow": {
     "slide_type": "slide"
    }
   },
   "outputs": [],
   "source": [
    "# sensible defaults\n",
    "max_distance = 2000  # in meters\n",
    "num_pois = 10  # only need the 10 nearest POI to each point in the network\n",
    "\n",
    "\n",
    "AMENITIES = [\"restaurant\", \"bar\", \"school\", \"car_sharing\"]\n",
    "for amenity in AMENITIES:\n",
    "    # get the subset of amenities for this type\n",
    "    pois_subset = poi_df[poi_df[\"amenity\"] == amenity]\n",
    "\n",
    "    # set the POI, using the longitude and latitude of POI\n",
    "    net.set_pois(\n",
    "        amenity, max_distance, num_pois, pois_subset[\"lon\"], pois_subset[\"lat\"]\n",
    "    )"
   ]
  },
  {
   "cell_type": "code",
   "execution_count": null,
   "metadata": {
    "slideshow": {
     "slide_type": "subslide"
    }
   },
   "outputs": [],
   "source": [
    "# keyword arguments to pass for the matplotlib figure\n",
    "bbox_aspect_ratio = (lat_max - lat_min) / (lng_max - lng_min)\n",
    "fig_kwargs = {\"facecolor\": \"w\", \"figsize\": (10, 10 * bbox_aspect_ratio)}\n",
    "\n",
    "# keyword arguments to pass for scatter plots\n",
    "plot_kwargs = {\"s\": 20, \"alpha\": 0.9, \"cmap\": \"viridis_r\", \"edgecolor\": \"none\"}"
   ]
  },
  {
   "cell_type": "markdown",
   "metadata": {
    "slideshow": {
     "slide_type": "slide"
    }
   },
   "source": [
    "### Step 4: Plot the walking distance to the nearest POI\n",
    "\n",
    "For every point on the network, find the nth nearest POI, calculate the distance, and color that point according to the distance.\n",
    "\n",
    "1. Use `network.nearest_poi()` to get distances from nodes to nearest POIs\n",
    "1. Merge coordinates of network nodes with distances to nearest POIs\n",
    "1. Plot the node coordinates, colored by distance to nth nearest POI"
   ]
  },
  {
   "cell_type": "markdown",
   "metadata": {
    "slideshow": {
     "slide_type": "slide"
    }
   },
   "source": [
    "#### 4.1 Use `network.nearest_poi()` to get distances from nodes to nearest POIs"
   ]
  },
  {
   "cell_type": "code",
   "execution_count": null,
   "metadata": {
    "slideshow": {
     "slide_type": "subslide"
    }
   },
   "outputs": [],
   "source": [
    "amenity = \"bar\"\n",
    "access = net.nearest_pois(distance=2000, category=amenity, num_pois=num_pois)"
   ]
  },
  {
   "cell_type": "code",
   "execution_count": null,
   "metadata": {
    "slideshow": {
     "slide_type": "subslide"
    }
   },
   "outputs": [],
   "source": [
    "access.head(n=20)"
   ]
  },
  {
   "cell_type": "markdown",
   "metadata": {
    "slideshow": {
     "slide_type": "slide"
    }
   },
   "source": [
    "#### 4.2 Merge coordinates of network nodes with distances to nearest POIs"
   ]
  },
  {
   "cell_type": "code",
   "execution_count": null,
   "metadata": {
    "slideshow": {
     "slide_type": "subslide"
    }
   },
   "outputs": [],
   "source": [
    "net.nodes_df.head()"
   ]
  },
  {
   "cell_type": "code",
   "execution_count": null,
   "metadata": {
    "slideshow": {
     "slide_type": "subslide"
    }
   },
   "outputs": [],
   "source": [
    "access.head()"
   ]
  },
  {
   "cell_type": "code",
   "execution_count": null,
   "metadata": {
    "slideshow": {
     "slide_type": "subslide"
    }
   },
   "outputs": [],
   "source": [
    "# Merge the nodes and the distance to POIs\n",
    "nodes = pd.merge(net.nodes_df, access, left_index=True, right_index=True)\n",
    "\n",
    "# Make into a geodataframe\n",
    "nodes = gpd.GeoDataFrame(\n",
    "    nodes, geometry=gpd.points_from_xy(nodes[\"x\"], nodes[\"y\"]), crs=\"EPSG:4326\"\n",
    ")"
   ]
  },
  {
   "cell_type": "code",
   "execution_count": null,
   "metadata": {
    "slideshow": {
     "slide_type": "subslide"
    }
   },
   "outputs": [],
   "source": [
    "nodes.head()"
   ]
  },
  {
   "cell_type": "markdown",
   "metadata": {
    "slideshow": {
     "slide_type": "slide"
    }
   },
   "source": [
    "#### 4.3 And now plot it!\n",
    "\n",
    "Let's define a function to do this for us, since we'll repeat this plot multiple times"
   ]
  },
  {
   "cell_type": "code",
   "execution_count": null,
   "metadata": {
    "slideshow": {
     "slide_type": "subslide"
    }
   },
   "outputs": [],
   "source": [
    "def plot_walking_distance(net, amenity, distance=1000, n=1):\n",
    "    \"\"\"\n",
    "    Plot the walking distance to the specified amenity\n",
    "    \"\"\"\n",
    "    from mpl_toolkits.axes_grid1 import make_axes_locatable\n",
    "\n",
    "    # subset of POI\n",
    "    poi_subset = poi_df[poi_df[\"amenity\"] == amenity]\n",
    "\n",
    "    # get the distances to nearest num_pois POI\n",
    "    access = net.nearest_pois(distance=1000, category=amenity, num_pois=num_pois)\n",
    "\n",
    "    # merge node positions and distances to nearest PO\n",
    "    nodes = pd.merge(net.nodes_df, access, left_index=True, right_index=True)\n",
    "    nodes = gpd.GeoDataFrame(\n",
    "        nodes, geometry=gpd.points_from_xy(nodes[\"x\"], nodes[\"y\"]), crs=\"EPSG:4326\"\n",
    "    )\n",
    "\n",
    "    # Create the figure\n",
    "    fig, ax = plt.subplots(figsize=(10, 10))\n",
    "    divider = make_axes_locatable(ax)\n",
    "    cax = divider.append_axes(\"right\", size=\"5%\", pad=0.1)\n",
    "\n",
    "    # plot the distance to the nth nearest amenity\n",
    "    ax = nodes.plot(ax=ax, cax=cax, column=nodes[n], legend=True, **plot_kwargs)\n",
    "\n",
    "    # add the amenities as stars\n",
    "    for i, row in poi_subset.iterrows():\n",
    "        ax.scatter(row[\"lon\"], row[\"lat\"], color=\"red\", s=100, marker=\"*\")\n",
    "\n",
    "    # format\n",
    "    ax.set_facecolor(\"black\")\n",
    "    ax.figure.set_size_inches(fig_kwargs[\"figsize\"])\n",
    "\n",
    "    # set extent\n",
    "    [xmin, ymin, xmax, ymax] = nodes.geometry.total_bounds\n",
    "    ax.set_xlim(xmin, xmax)\n",
    "    ax.set_ylim(ymin, ymax)\n",
    "\n",
    "    return ax"
   ]
  },
  {
   "cell_type": "markdown",
   "metadata": {
    "slideshow": {
     "slide_type": "slide"
    }
   },
   "source": [
    "### Evaluating amenity choice\n",
    "\n",
    "The difference between maps to the nearest amenity and for example, the 5th nearest amenity tells us about the options consumers have"
   ]
  },
  {
   "cell_type": "markdown",
   "metadata": {
    "slideshow": {
     "slide_type": "slide"
    }
   },
   "source": [
    "#### Example: bars"
   ]
  },
  {
   "cell_type": "code",
   "execution_count": null,
   "metadata": {
    "slideshow": {
     "slide_type": "subslide"
    }
   },
   "outputs": [],
   "source": [
    "ax = plot_walking_distance(net, \"bar\", n=1)\n",
    "ax.set_title(\"Walking distance to the nearest bar\", fontsize=18);"
   ]
  },
  {
   "cell_type": "code",
   "execution_count": null,
   "metadata": {
    "slideshow": {
     "slide_type": "subslide"
    }
   },
   "outputs": [],
   "source": [
    "ax = plot_walking_distance(net, \"bar\", n=3)\n",
    "ax.set_title(\"Walking distance to the 3rd nearest bar\", fontsize=18);"
   ]
  },
  {
   "cell_type": "markdown",
   "metadata": {
    "slideshow": {
     "slide_type": "slide"
    }
   },
   "source": [
    "#### Example: schools"
   ]
  },
  {
   "cell_type": "code",
   "execution_count": null,
   "metadata": {
    "slideshow": {
     "slide_type": "subslide"
    }
   },
   "outputs": [],
   "source": [
    "ax = plot_walking_distance(net, \"school\", n=1)\n",
    "ax.set_title(\"Walking distance to the nearest school\", fontsize=18);"
   ]
  },
  {
   "cell_type": "code",
   "execution_count": null,
   "metadata": {
    "slideshow": {
     "slide_type": "subslide"
    }
   },
   "outputs": [],
   "source": [
    "ax = plot_walking_distance(net, \"school\", n=3)\n",
    "ax.set_title(\"Walking distance to the 3rd nearest school\", fontsize=18);"
   ]
  },
  {
   "cell_type": "markdown",
   "metadata": {
    "slideshow": {
     "slide_type": "slide"
    }
   },
   "source": [
    "#### Example: restaurants"
   ]
  },
  {
   "cell_type": "code",
   "execution_count": null,
   "metadata": {
    "slideshow": {
     "slide_type": "subslide"
    }
   },
   "outputs": [],
   "source": [
    "ax = plot_walking_distance(net, \"restaurant\", n=1)\n",
    "ax.set_title(\"Walking distance to the nearest restaurant\", fontsize=18);"
   ]
  },
  {
   "cell_type": "code",
   "execution_count": null,
   "metadata": {
    "slideshow": {
     "slide_type": "subslide"
    }
   },
   "outputs": [],
   "source": [
    "ax = plot_walking_distance(net, \"restaurant\", n=5)\n",
    "ax.set_title(\"Walking distance to the 5th nearest restaurant\", fontsize=18);"
   ]
  },
  {
   "cell_type": "markdown",
   "metadata": {
    "slideshow": {
     "slide_type": "slide"
    }
   },
   "source": [
    "#### Example: car sharing"
   ]
  },
  {
   "cell_type": "code",
   "execution_count": null,
   "metadata": {
    "slideshow": {
     "slide_type": "subslide"
    }
   },
   "outputs": [],
   "source": [
    "ax = plot_walking_distance(net, \"car_sharing\", n=1)\n",
    "ax.set_title(\"Walking distance to the nearest car sharing\", fontsize=18);"
   ]
  },
  {
   "cell_type": "code",
   "execution_count": null,
   "metadata": {
    "slideshow": {
     "slide_type": "subslide"
    }
   },
   "outputs": [],
   "source": [
    "ax = plot_walking_distance(net, \"car_sharing\", n=10)\n",
    "ax.set_title(\"Walking distance to the 10th nearest car sharing\", fontsize=18);"
   ]
  },
  {
   "cell_type": "markdown",
   "metadata": {
    "slideshow": {
     "slide_type": "slide"
    }
   },
   "source": [
    "## At-home exercise: Explore amenities in the neighborhood of your choice\n",
    "\n",
    "Many, many more amenities are logged throughout the city. Pick your favorite neighborhood and explore. \n",
    "\n",
    "See [this page](https://wiki.openstreetmap.org/wiki/Key:amenity) for the full list of amenities.\n",
    "\n",
    "**Final project idea**: With this kind of analysis, you can look at amenity-based influence in housing, neighborhood selection, etc. or something similar to the [Walk Score](https://www.walkscore.com/)."
   ]
  },
  {
   "cell_type": "code",
   "execution_count": null,
   "metadata": {},
   "outputs": [],
   "source": []
  }
 ],
 "metadata": {
  "celltoolbar": "Slideshow",
  "kernelspec": {
   "display_name": "Python 3 (ipykernel)",
   "language": "python",
   "name": "python3"
  },
  "language_info": {
   "codemirror_mode": {
    "name": "ipython",
    "version": 3
   },
   "file_extension": ".py",
   "mimetype": "text/x-python",
   "name": "python",
   "nbconvert_exporter": "python",
   "pygments_lexer": "ipython3",
   "version": "3.10.12"
  }
 },
 "nbformat": 4,
 "nbformat_minor": 4
}
